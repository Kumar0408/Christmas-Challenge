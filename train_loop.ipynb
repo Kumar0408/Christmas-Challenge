{
 "cells": [
  {
   "cell_type": "code",
   "execution_count": null,
   "id": "7126096a",
   "metadata": {},
   "outputs": [],
   "source": [
    "%load_ext autoreload\n",
    "%autoreload 2\n",
    "\n",
    "import numpy as np\n",
    "import matplotlib.pyplot as plt\n",
    "import torch\n",
    "import torch.nn as nn\n",
    "import random\n",
    "import time\n",
    "from tqdm import tqdm\n",
    "from torchvision import transforms\n",
    "from torch.utils.data import random_split\n",
    "from torch.utils.data import DataLoader\n",
    "from torch.utils.data import Dataset\n",
    "from data import ChristmasImages\n",
    "from torchvision.datasets import ImageFolder\n",
    "from model import Network"
   ]
  },
  {
   "cell_type": "markdown",
   "id": "7748790d",
   "metadata": {},
   "source": [
    "#To calculate mean and std_dev of training dataset\n",
    "\n",
    "path = 'image_data'\n",
    "train_transform = transforms.Compose([\n",
    "            transforms.Resize((224,224)),\n",
    "            transforms.CenterCrop(192),\n",
    "            transforms.RandomRotation(degrees = (-180,180)),\n",
    "            transforms.RandomHorizontalFlip(),\n",
    "            transforms.ToTensor(),\n",
    "            #transforms.Normalize(mean= torch.tensor([0.4585, 0.4114, 0.3843]),std = torch.tensor([0.3152, 0.3112, 0.3195])),\n",
    "            ])\n",
    "image_data_unnormalized = ImageFolder(root = path + '/train', transform = train_transform)\n",
    "loader = DataLoader(image_data_unnormalized,batch_size = len(image_data_unnormalized),num_workers = 6)\n",
    "\n",
    "images,labels = next(iter(loader))\n",
    "\n",
    "mean,std = images.mean([0,2,3]),images.std([0,2,3])\n",
    "\n",
    "print (mean,std)\n",
    " "
   ]
  },
  {
   "cell_type": "code",
   "execution_count": null,
   "id": "ca66f58d",
   "metadata": {},
   "outputs": [],
   "source": [
    "train_path = 'image_data'\n",
    "train_dataset = ChristmasImages(train_path,training = True)\n",
    "train_dataset[0]"
   ]
  },
  {
   "cell_type": "code",
   "execution_count": null,
   "id": "f3ad5fb8",
   "metadata": {},
   "outputs": [],
   "source": [
    "rand_idx = random.randrange(0,3725,1)\n",
    "image,label = dataset[rand_idx]\n",
    "#print(len(val_data))\n",
    "print(image,label)\n",
    "plt.imshow(image.permute(1,2,0))\n"
   ]
  },
  {
   "cell_type": "code",
   "execution_count": null,
   "id": "3b3391d4",
   "metadata": {},
   "outputs": [],
   "source": [
    "batch_size = 32\n",
    "val_size = int(0.2*len(dataset))\n",
    "train_size = len(dataset) - val_size\n",
    "print(val_size,train_size)"
   ]
  },
  {
   "cell_type": "code",
   "execution_count": null,
   "id": "21e7f934",
   "metadata": {},
   "outputs": [],
   "source": [
    "train_ds,val_ds = random_split(dataset,[train_size,val_size])"
   ]
  },
  {
   "cell_type": "code",
   "execution_count": null,
   "id": "dc3e0da0",
   "metadata": {},
   "outputs": [],
   "source": [
    "train_dl = DataLoader(train_ds, batch_size, shuffle = True, num_workers = 6)\n",
    "val_dl = DataLoader(val_ds, batch_size,shuffle = True, num_workers = 6)"
   ]
  },
  {
   "cell_type": "code",
   "execution_count": null,
   "id": "0a54ed76",
   "metadata": {
    "scrolled": true
   },
   "outputs": [],
   "source": [
    "from torchsummary import summary \n",
    "mymodel = Network()\n",
    "#new_model.freeze_parameters()\n",
    "summary(mymodel,(3,224,224))"
   ]
  },
  {
   "cell_type": "code",
   "execution_count": null,
   "id": "0cb16342",
   "metadata": {},
   "outputs": [],
   "source": [
    "learning_rate = 0.001\n",
    "optimizer = torch.optim.Adam(mymodel.parameters(),lr = 0.001,weight_decay = 0.0001)\n",
    "#optimizer = torch.optim.SGD(new_model.parameters(), lr = 3e-4,weight_decay = 0.9)\n",
    "loss_function = nn.CrossEntropyLoss()\n",
    "num_epochs = 30\n",
    "patience = 2\n",
    "min_lr = 3e-4\n",
    "best_val_acc = 0\n",
    "no_improvements_epochs = 0"
   ]
  },
  {
   "cell_type": "code",
   "execution_count": null,
   "id": "7aeeaf5d",
   "metadata": {},
   "outputs": [],
   "source": [
    "optimizer = torch.optim.Adam(mymodel.parameters(),lr = 0.01,weight_decay = 0.0001)\n",
    "best_val_acc = 0\n",
    "num_epochs = 10"
   ]
  },
  {
   "cell_type": "code",
   "execution_count": null,
   "id": "c7b54dfc",
   "metadata": {},
   "outputs": [],
   "source": [
    "for epoch in range(num_epochs):\n",
    "    total_train_loss = 0\n",
    "    train_correct = 0\n",
    "    train_total = 0\n",
    "    \n",
    "    time_start = time.time()\n",
    "    with tqdm(train_dl, unit = \"batch\", desc = f\"Epoch {epoch+1}\") as tepoch:\n",
    "        # Training step\n",
    "        trained_model.train()\n",
    "        for data, target in tepoch:\n",
    "            optimizer.zero_grad()\n",
    "            output = trained_model(data)\n",
    "            loss = loss_function(output, target)\n",
    "            loss.backward()\n",
    "            optimizer.step()\n",
    "            total_train_loss += loss.item()\n",
    "            _, predicted = torch.max(output.data, 1)\n",
    "            train_total += target.size(0)\n",
    "            train_correct += (predicted == target).sum().item()\n",
    "        train_acc = train_correct / train_total\n",
    "        train_loss = total_train_loss / len(train_dl)\n",
    "        tepoch.set_postfix(loss = train_loss, acc = train_acc)\n",
    "        \n",
    "    # Evaluation step\n",
    "    with torch.no_grad():\n",
    "        trained_model.eval()\n",
    "        total_val_loss = 0\n",
    "        val_correct = 0\n",
    "        val_total = 0\n",
    "        for data, target in val_dl:\n",
    "            output = trained_model(data)\n",
    "            val_loss = loss_function(output, target)\n",
    "            total_val_loss += val_loss.item()\n",
    "            _, predicted = torch.max(output.data, 1)\n",
    "            val_total += target.size(0)\n",
    "            val_correct += (predicted == target).sum().item()\n",
    "        val_acc = val_correct / val_total\n",
    "        val_loss = total_val_loss / len(val_dl)\n",
    "        if val_acc>best_val_acc:\n",
    "            best_val_acc = val_acc\n",
    "            best_weights = trained_model.state_dict()\n",
    "            torch.save(best_weights, 'best_weights.pth')\n",
    "            trained_model.save_model()\n",
    " \n",
    "        \n",
    "    time_end = time.time()\n",
    "    time_elapsed = time_end - time_start\n",
    "    print(\"Time_elapsed for Epoch [{}] : [{:.2f}] s\".format(epoch+1,time_elapsed))\n",
    "    print(f'Training Loss: {train_loss:.4f} | Train Acc: {100*train_acc:.4f}')\n",
    "    print(f'Validation Loss: {val_loss:.4f} | Validation Acc: {100*val_acc:.4f} | Best Validation Acc: {100*best_val_acc:.4f}')\n",
    "        "
   ]
  },
  {
   "cell_type": "code",
   "execution_count": null,
   "id": "452ca680",
   "metadata": {},
   "outputs": [],
   "source": [
    "trained_model = Network()\n",
    "trained_model.load_state_dict(torch.load('model'))"
   ]
  },
  {
   "cell_type": "code",
   "execution_count": null,
   "id": "ce84cb5e",
   "metadata": {},
   "outputs": [],
   "source": []
  }
 ],
 "metadata": {
  "kernelspec": {
   "display_name": "Python 3 (ipykernel)",
   "language": "python",
   "name": "python3"
  },
  "language_info": {
   "codemirror_mode": {
    "name": "ipython",
    "version": 3
   },
   "file_extension": ".py",
   "mimetype": "text/x-python",
   "name": "python",
   "nbconvert_exporter": "python",
   "pygments_lexer": "ipython3",
   "version": "3.9.7"
  }
 },
 "nbformat": 4,
 "nbformat_minor": 5
}
